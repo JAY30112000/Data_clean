{
 "cells": [
  {
   "cell_type": "code",
   "execution_count": null,
   "metadata": {},
   "outputs": [],
   "source": [
    "import re\n",
    "list_files=['xaa','xab','xac','xad','xae','xaf','xag','xah','xai','xaj','xak']\n",
    "count=0\n",
    "item_prev=\"\"\n",
    "this_set={''}\n",
    "ls_ensample=[]\n",
    "ls_frsample=[]"
   ]
  },
  {
   "cell_type": "code",
   "execution_count": null,
   "metadata": {},
   "outputs": [],
   "source": [
    "file_eng = open(\"engl_data\",'a',encoding='utf-8')\n",
    "file_frn = open(\"fren_data\",'a',encoding='utf-8')\n",
    "for file in list_files:\n",
    "    text = re.sub('<[^<]+>', \"\", open(file,encoding='utf-8').read())\n",
    "    text1=text.split('\\n')[:-1]\n",
    "    non_empty_lines = [line for line in text1 if line.strip() != \"\"]\n",
    "    punctuation=\"#$&'()*+-/:;<=>@[]^_`{|}~)\"+'\"'\n",
    "    import io\n",
    "    list_en=[]\n",
    "    list_fr=[]\n"
   ]
  },
  {
   "cell_type": "code",
   "execution_count": null,
   "metadata": {},
   "outputs": [],
   "source": [
    "for item in non_empty_lines:\n",
    "        item=''+item\n",
    "        count=count+1\n",
    "        if(count%2==1):\n",
    "                item_prev=''+item\n",
    "        else:\n",
    "                list_en=item_prev.split(\" \")\n",
    "                list_fr=item.split(\" \")\n",
    "                if(len(list_en)<50 and len(list_fr)<50):\n",
    "                    for j  in item:\n",
    "                        if (j in punctuation):\n",
    "                            item=item.replace(j,\" \")\n",
    "                    for k in item_prev:\n",
    "                        if (k in punctuation):\n",
    "                            item_prev=item_prev.replace(k,\" \")\n",
    "                    count_old=len(this_set)\n",
    "                    this_set.add(item)\n",
    "                    this_set.add(item_prev)\n",
    "                    count_new=len(this_set)\n",
    "                    if(count_new-count_old>1 and (item!='' and item_prev!='')):\n",
    "                        file_frn.write(\"{}\".format(item)+'\\n')\n",
    "                        file_eng.write(\"{}\".format(item_prev)+'\\n')\n",
    "                        if file=='xak':\n",
    "                            ls_ensample.append(item_prev)\n",
    "                            ls_frsample.append(item)\n",
    "                        "
   ]
  },
  {
   "cell_type": "code",
   "execution_count": null,
   "metadata": {},
   "outputs": [],
   "source": [
    "file_en5k = open(\"engl_5k\",'a',encoding='utf-8')\n",
    "file_fr5k = open(\"fren_5k\",'a',encoding='utf-8')\n",
    "file_en2k = open(\"engl_2k\",'a',encoding='utf-8')\n",
    "file_fr2k = open(\"fren_2k\",'a',encoding='utf-8')\n",
    "for item in ls_ensample[-5000:]:\n",
    "    file_en5k.write(\"%s\\n\" % item)\n",
    "for item in ls_frsample[-5000:]:\n",
    "    file_fr5k.write(\"%s\\n\" % item)\n",
    "for item in ls_ensample[-2000:]:\n",
    "    file_en2k.write(\"%s\\n\" % item)\n",
    "for item in ls_frsample[-2000:]:\n",
    "    file_fr2k.write(\"%s\\n\" % item)  \n",
    "file_en5k.close()\n",
    "file_fr5k.close()\n",
    "file_en2k.close()\n",
    "file_fr2k.close()"
   ]
  }
 ],
 "metadata": {
  "kernelspec": {
   "display_name": "Python 3",
   "language": "python",
   "name": "python3"
  },
  "language_info": {
   "codemirror_mode": {
    "name": "ipython",
    "version": 3
   },
   "file_extension": ".py",
   "mimetype": "text/x-python",
   "name": "python",
   "nbconvert_exporter": "python",
   "pygments_lexer": "ipython3",
   "version": "3.7.4"
  }
 },
 "nbformat": 4,
 "nbformat_minor": 2
}
